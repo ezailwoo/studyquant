{
 "cells": [
  {
   "cell_type": "markdown",
   "metadata": {},
   "source": [
    "# StudyQuant\n",
    "作者 ： Rudy\n",
    "\n",
    "## 局部变量\n",
    "当你在函数定义内声明变量的时候，它们与函数外具有相同名称的其他变量没有任何关系，即\n",
    "变量名称对于函数来说是 局部 的。这称为变量的 作用域 。所有变量的作用域是它们被定义的\n",
    "块，从它们的名称被定义的那点开始。\n",
    "\n",
    "**只能在申明的函数内部访问**"
   ]
  },
  {
   "cell_type": "code",
   "execution_count": 11,
   "metadata": {},
   "outputs": [
    {
     "name": "stdout",
     "output_type": "stream",
     "text": [
      "x is 50\n",
      "Changed local x to 2\n",
      "x is still 50\n"
     ]
    }
   ],
   "source": [
    "def func(x):\n",
    "    print ('x is', x)\n",
    "    x = 2\n",
    "    print ('Changed local x to', x)\n",
    "    \n",
    "x = 50\n",
    "func(x)\n",
    "\n",
    "\n",
    "print ('x is still', x)"
   ]
  },
  {
   "cell_type": "code",
   "execution_count": null,
   "metadata": {
    "collapsed": true
   },
   "outputs": [],
   "source": []
  },
  {
   "cell_type": "code",
   "execution_count": null,
   "metadata": {
    "collapsed": true
   },
   "outputs": [],
   "source": []
  },
  {
   "cell_type": "markdown",
   "metadata": {},
   "source": [
    "## 全局变量\n",
    "\n",
    "**在整个程序范围内访问**\n",
    "\n",
    "**在函数外的变量，未申明GLOBAL的变量都被默认为 全局变量**\n",
    "\n"
   ]
  },
  {
   "cell_type": "markdown",
   "metadata": {},
   "source": [
    "## 使用global语句\n",
    "如果你想要为一个定义在函数外的变量赋值，那么你就得告诉Python这个变量名不是局部的，\n",
    "而是 全局 的。我们使用global语句完成这一功能。没有global语句，是不可能为定义在函数外\n",
    "的变量赋值的。\n",
    "\n",
    "\n",
    "你可以使用定义在函数外的变量的值（假设在函数内没有同名的变量）。然而，我并不鼓励你\n",
    "这样做，并且你应该尽量避免这样做，因为这使得程序的读者会不清楚这个变量是在哪里定义\n",
    "的。**使用global语句可以清楚地表明变量是在外面的块定义的。**"
   ]
  },
  {
   "cell_type": "code",
   "execution_count": 17,
   "metadata": {},
   "outputs": [],
   "source": [
    "def func():\n",
    "    global x\n",
    "#     print ('x is', x)\n",
    "    x = 2\n",
    "    print ('Changed local x to', x)\n",
    "    \n"
   ]
  },
  {
   "cell_type": "code",
   "execution_count": 19,
   "metadata": {},
   "outputs": [
    {
     "name": "stdout",
     "output_type": "stream",
     "text": [
      "Changed local x to 2\n"
     ]
    },
    {
     "data": {
      "text/plain": [
       "2"
      ]
     },
     "execution_count": 19,
     "metadata": {},
     "output_type": "execute_result"
    }
   ],
   "source": [
    "x = 50\n",
    "func()\n",
    "x"
   ]
  },
  {
   "cell_type": "code",
   "execution_count": 20,
   "metadata": {},
   "outputs": [],
   "source": [
    "def func():\n",
    "#     global x\n",
    "#     print ('x is', x)\n",
    "    x = 20\n",
    "    print ('Changed local x to', x)\n"
   ]
  },
  {
   "cell_type": "code",
   "execution_count": 21,
   "metadata": {},
   "outputs": [
    {
     "name": "stdout",
     "output_type": "stream",
     "text": [
      "Changed local x to 20\n"
     ]
    }
   ],
   "source": [
    "x = 50\n",
    "func()\n"
   ]
  },
  {
   "cell_type": "code",
   "execution_count": 22,
   "metadata": {},
   "outputs": [
    {
     "name": "stdout",
     "output_type": "stream",
     "text": [
      "x is still 50\n"
     ]
    }
   ],
   "source": [
    "print ('x is still', x)"
   ]
  },
  {
   "cell_type": "markdown",
   "metadata": {},
   "source": [
    "## 更多量化学习资源\n",
    "\n",
    "<img src=\"https://upload-images.jianshu.io/upload_images/10681489-129dda5fc09f706c.png?imageMogr2/auto-orient/strip%7CimageView2/2/w/1240\" alt=\"StudyQuant\" width=\"60%\" align=\"middle\" border=\"0\"><br>\n",
    "\n",
    "扫上方二维码，关注公众账号 量化投资学院 ，获取下列免费资源\n",
    "- 回复**“热点研报”**，获取近年热点券商金融工程研究报告\n",
    "- 回复**“Python3”**，获取Python免费学习教程\n",
    "- 回复**“quant教材与面试经验”**， 获取 quant教材与面试经验 资料\n",
    "*   [更多福利请点击此链接](https://www.jianshu.com/p/2ffb29f1a1aa)\n",
    "\n",
    "\n",
    "## 关注StudyQuant\n",
    "*   [课程](http://study.163.com/provider/400000000342001/index.htm?share=2&shareId=400000000342001)\n",
    "- [量化投资与数据分析实战](http://study.163.com/course/introduction/1004855008.htm?share=2&shareId=400000000342001)\n",
    "- [量化投资与数字货币实战](http://study.163.com/course/courseMain.htm?courseId=1005630014&share=2&shareId=400000000342001#/courseDetail?tab=1)\n",
    "*   [简书](https://www.jianshu.com/u/495eda774816)\n",
    "*   [公众号](https://mp.weixin.qq.com/s__biz=MzU5NzU5NjIwMQ==&mid=100000028&idx=1&sn=2f8c053849f296455ec85406e80b2a2d&chksm=7e50405a4927c94c18ba438e0c309a7d13883621ddf02904266026556e9994ad1c3f8558327d&mpshare=1&scene=1&srcid=0810AEevB9zID4Ywzl1icPfA#rd)"
   ]
  },
  {
   "cell_type": "code",
   "execution_count": null,
   "metadata": {
    "collapsed": true
   },
   "outputs": [],
   "source": []
  },
  {
   "cell_type": "code",
   "execution_count": null,
   "metadata": {
    "collapsed": true
   },
   "outputs": [],
   "source": []
  }
 ],
 "metadata": {
  "kernelspec": {
   "display_name": "Python 3",
   "language": "python",
   "name": "python3"
  },
  "language_info": {
   "codemirror_mode": {
    "name": "ipython",
    "version": 3
   },
   "file_extension": ".py",
   "mimetype": "text/x-python",
   "name": "python",
   "nbconvert_exporter": "python",
   "pygments_lexer": "ipython3",
   "version": "3.6.3"
  }
 },
 "nbformat": 4,
 "nbformat_minor": 2
}
